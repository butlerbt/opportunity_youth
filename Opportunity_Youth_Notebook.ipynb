{
 "cells": [
  {
   "cell_type": "markdown",
   "metadata": {},
   "source": [
    "# Opportunity Youth in South King County updated with 2017 data"
   ]
  },
  {
   "cell_type": "markdown",
   "metadata": {},
   "source": [
    "## Import Necessary Packages"
   ]
  },
  {
   "cell_type": "code",
   "execution_count": 241,
   "metadata": {},
   "outputs": [],
   "source": [
    "from sqlalchemy import create_engine\n",
    "import pandas as pd\n",
    "from matplotlib import pyplot as plt\n",
    "import seaborn as sns"
   ]
  },
  {
   "cell_type": "markdown",
   "metadata": {},
   "source": [
    "## Load Data from postgresQL database into Pandas DataFrame"
   ]
  },
  {
   "cell_type": "code",
   "execution_count": 3,
   "metadata": {},
   "outputs": [],
   "source": [
    "engine = create_engine(\"postgresql:///opportunity_youth\")"
   ]
  },
  {
   "cell_type": "markdown",
   "metadata": {},
   "source": [
    "The following query selects all columns from the `pums_2017` database filtered by rows that meet the qualifications for South King County opportunity youth (i.e., ages 16-24 and neither currently enrolled nor employed)."
   ]
  },
  {
   "cell_type": "code",
   "execution_count": 77,
   "metadata": {},
   "outputs": [],
   "source": [
    "query = \"\"\"SELECT * \n",
    "           FROM pums_2017 \n",
    "           WHERE (rt = 'P') \n",
    "           AND (puma = '11604' OR puma = '11605' OR puma = '11610' OR puma = '11613' OR puma = '11614' OR puma = '11615' OR puma = '11611' OR puma = '11612') \n",
    "           AND (agep BETWEEN 16 AND 24) \n",
    "           AND (sch = '1') \n",
    "           AND (esr = '3' OR esr = '6')\"\"\""
   ]
  },
  {
   "cell_type": "code",
   "execution_count": 78,
   "metadata": {},
   "outputs": [],
   "source": [
    "opp_youth = pd.read_sql(sql = query, con = engine) #read table query into Pandas DataFrame"
   ]
  },
  {
   "cell_type": "code",
   "execution_count": 79,
   "metadata": {
    "scrolled": true
   },
   "outputs": [
    {
     "data": {
      "text/html": [
       "<div>\n",
       "<style scoped>\n",
       "    .dataframe tbody tr th:only-of-type {\n",
       "        vertical-align: middle;\n",
       "    }\n",
       "\n",
       "    .dataframe tbody tr th {\n",
       "        vertical-align: top;\n",
       "    }\n",
       "\n",
       "    .dataframe thead th {\n",
       "        text-align: right;\n",
       "    }\n",
       "</style>\n",
       "<table border=\"1\" class=\"dataframe\">\n",
       "  <thead>\n",
       "    <tr style=\"text-align: right;\">\n",
       "      <th></th>\n",
       "      <th>rt</th>\n",
       "      <th>serialno</th>\n",
       "      <th>division</th>\n",
       "      <th>sporder</th>\n",
       "      <th>puma</th>\n",
       "      <th>region</th>\n",
       "      <th>st</th>\n",
       "      <th>adjinc</th>\n",
       "      <th>pwgtp</th>\n",
       "      <th>agep</th>\n",
       "      <th>...</th>\n",
       "      <th>pwgtp71</th>\n",
       "      <th>pwgtp72</th>\n",
       "      <th>pwgtp73</th>\n",
       "      <th>pwgtp74</th>\n",
       "      <th>pwgtp75</th>\n",
       "      <th>pwgtp76</th>\n",
       "      <th>pwgtp77</th>\n",
       "      <th>pwgtp78</th>\n",
       "      <th>pwgtp79</th>\n",
       "      <th>pwgtp80</th>\n",
       "    </tr>\n",
       "  </thead>\n",
       "  <tbody>\n",
       "    <tr>\n",
       "      <th>0</th>\n",
       "      <td>P</td>\n",
       "      <td>2013000008875</td>\n",
       "      <td>9</td>\n",
       "      <td>05</td>\n",
       "      <td>11604</td>\n",
       "      <td>4</td>\n",
       "      <td>53</td>\n",
       "      <td>1061971</td>\n",
       "      <td>36.0</td>\n",
       "      <td>19.0</td>\n",
       "      <td>...</td>\n",
       "      <td>41.0</td>\n",
       "      <td>47.0</td>\n",
       "      <td>8.0</td>\n",
       "      <td>44.0</td>\n",
       "      <td>56.0</td>\n",
       "      <td>25.0</td>\n",
       "      <td>11.0</td>\n",
       "      <td>12.0</td>\n",
       "      <td>34.0</td>\n",
       "      <td>66.0</td>\n",
       "    </tr>\n",
       "    <tr>\n",
       "      <th>1</th>\n",
       "      <td>P</td>\n",
       "      <td>2013000030421</td>\n",
       "      <td>9</td>\n",
       "      <td>02</td>\n",
       "      <td>11611</td>\n",
       "      <td>4</td>\n",
       "      <td>53</td>\n",
       "      <td>1061971</td>\n",
       "      <td>11.0</td>\n",
       "      <td>19.0</td>\n",
       "      <td>...</td>\n",
       "      <td>16.0</td>\n",
       "      <td>12.0</td>\n",
       "      <td>10.0</td>\n",
       "      <td>9.0</td>\n",
       "      <td>9.0</td>\n",
       "      <td>10.0</td>\n",
       "      <td>13.0</td>\n",
       "      <td>11.0</td>\n",
       "      <td>10.0</td>\n",
       "      <td>10.0</td>\n",
       "    </tr>\n",
       "    <tr>\n",
       "      <th>2</th>\n",
       "      <td>P</td>\n",
       "      <td>2013000047506</td>\n",
       "      <td>9</td>\n",
       "      <td>04</td>\n",
       "      <td>11615</td>\n",
       "      <td>4</td>\n",
       "      <td>53</td>\n",
       "      <td>1061971</td>\n",
       "      <td>5.0</td>\n",
       "      <td>20.0</td>\n",
       "      <td>...</td>\n",
       "      <td>1.0</td>\n",
       "      <td>6.0</td>\n",
       "      <td>6.0</td>\n",
       "      <td>7.0</td>\n",
       "      <td>5.0</td>\n",
       "      <td>2.0</td>\n",
       "      <td>4.0</td>\n",
       "      <td>1.0</td>\n",
       "      <td>6.0</td>\n",
       "      <td>1.0</td>\n",
       "    </tr>\n",
       "    <tr>\n",
       "      <th>3</th>\n",
       "      <td>P</td>\n",
       "      <td>2013000048962</td>\n",
       "      <td>9</td>\n",
       "      <td>05</td>\n",
       "      <td>11612</td>\n",
       "      <td>4</td>\n",
       "      <td>53</td>\n",
       "      <td>1061971</td>\n",
       "      <td>25.0</td>\n",
       "      <td>22.0</td>\n",
       "      <td>...</td>\n",
       "      <td>7.0</td>\n",
       "      <td>37.0</td>\n",
       "      <td>24.0</td>\n",
       "      <td>44.0</td>\n",
       "      <td>26.0</td>\n",
       "      <td>7.0</td>\n",
       "      <td>25.0</td>\n",
       "      <td>9.0</td>\n",
       "      <td>39.0</td>\n",
       "      <td>7.0</td>\n",
       "    </tr>\n",
       "    <tr>\n",
       "      <th>4</th>\n",
       "      <td>P</td>\n",
       "      <td>2013000057563</td>\n",
       "      <td>9</td>\n",
       "      <td>05</td>\n",
       "      <td>11611</td>\n",
       "      <td>4</td>\n",
       "      <td>53</td>\n",
       "      <td>1061971</td>\n",
       "      <td>20.0</td>\n",
       "      <td>21.0</td>\n",
       "      <td>...</td>\n",
       "      <td>6.0</td>\n",
       "      <td>7.0</td>\n",
       "      <td>24.0</td>\n",
       "      <td>23.0</td>\n",
       "      <td>6.0</td>\n",
       "      <td>33.0</td>\n",
       "      <td>19.0</td>\n",
       "      <td>33.0</td>\n",
       "      <td>33.0</td>\n",
       "      <td>18.0</td>\n",
       "    </tr>\n",
       "  </tbody>\n",
       "</table>\n",
       "<p>5 rows × 286 columns</p>\n",
       "</div>"
      ],
      "text/plain": [
       "  rt       serialno division sporder   puma region  st   adjinc  pwgtp  agep  \\\n",
       "0  P  2013000008875        9      05  11604      4  53  1061971   36.0  19.0   \n",
       "1  P  2013000030421        9      02  11611      4  53  1061971   11.0  19.0   \n",
       "2  P  2013000047506        9      04  11615      4  53  1061971    5.0  20.0   \n",
       "3  P  2013000048962        9      05  11612      4  53  1061971   25.0  22.0   \n",
       "4  P  2013000057563        9      05  11611      4  53  1061971   20.0  21.0   \n",
       "\n",
       "   ...  pwgtp71  pwgtp72 pwgtp73 pwgtp74 pwgtp75 pwgtp76 pwgtp77 pwgtp78  \\\n",
       "0  ...     41.0     47.0     8.0    44.0    56.0    25.0    11.0    12.0   \n",
       "1  ...     16.0     12.0    10.0     9.0     9.0    10.0    13.0    11.0   \n",
       "2  ...      1.0      6.0     6.0     7.0     5.0     2.0     4.0     1.0   \n",
       "3  ...      7.0     37.0    24.0    44.0    26.0     7.0    25.0     9.0   \n",
       "4  ...      6.0      7.0    24.0    23.0     6.0    33.0    19.0    33.0   \n",
       "\n",
       "  pwgtp79 pwgtp80  \n",
       "0    34.0    66.0  \n",
       "1    10.0    10.0  \n",
       "2     6.0     1.0  \n",
       "3    39.0     7.0  \n",
       "4    33.0    18.0  \n",
       "\n",
       "[5 rows x 286 columns]"
      ]
     },
     "execution_count": 79,
     "metadata": {},
     "output_type": "execute_result"
    }
   ],
   "source": [
    "opp_youth.head()"
   ]
  },
  {
   "cell_type": "markdown",
   "metadata": {},
   "source": [
    "## Estimating Opportunity Youth\n",
    "\n",
    "The estimate of 2019 opportunity youth is calculated by summing all the records, but each record is multiplied by the column `pwgtp` which is the weight that record holds for the total population. Here, if we sum `pwgtp` across all the rows, we get an estimate of the opportunity youth in South King County."
   ]
  },
  {
   "cell_type": "code",
   "execution_count": 80,
   "metadata": {},
   "outputs": [
    {
     "name": "stdout",
     "output_type": "stream",
     "text": [
      "12438.0\n"
     ]
    }
   ],
   "source": [
    "opp_youth_est = opp_youth['pwgtp'].sum()\n",
    "print(opp_youth_est)"
   ]
  },
  {
   "cell_type": "markdown",
   "metadata": {},
   "source": [
    "If we want to get the number of opportunity youth represented by each PUMA in South King County in the newest dataset, we can use the following:"
   ]
  },
  {
   "cell_type": "code",
   "execution_count": 104,
   "metadata": {},
   "outputs": [],
   "source": [
    "OYbyPUMA = opp_youth.groupby('puma')['pwgtp'].sum()"
   ]
  },
  {
   "cell_type": "code",
   "execution_count": 105,
   "metadata": {
    "scrolled": true
   },
   "outputs": [
    {
     "data": {
      "text/plain": [
       "puma\n",
       "11604     916.0\n",
       "11605     908.0\n",
       "11610    1853.0\n",
       "11611    2038.0\n",
       "11612    1977.0\n",
       "11613    2006.0\n",
       "11614    1530.0\n",
       "11615    1210.0\n",
       "Name: pwgtp, dtype: float64"
      ]
     },
     "execution_count": 105,
     "metadata": {},
     "output_type": "execute_result"
    }
   ],
   "source": [
    "OYbyPUMA"
   ]
  },
  {
   "cell_type": "markdown",
   "metadata": {},
   "source": [
    "## Calculating Opportunity Youth Status by Age\n",
    "\n",
    "The 2016 report on opportunity youth contains a breakdown of opportunity youth and total youth by age, their education status, and their employment status. Here, we recalculate these statistics using the updated information."
   ]
  },
  {
   "cell_type": "markdown",
   "metadata": {},
   "source": [
    "The following SQL query retuns a table with an estimate and percentage of the youth population that is an opportunity youth, not an opportunity youth, and youths working without a diploma."
   ]
  },
  {
   "cell_type": "code",
   "execution_count": 81,
   "metadata": {},
   "outputs": [],
   "source": [
    "query_total_population = \"\"\"SELECT age_flag, oy_flag, SUM(pwgtp) as estimate, SUM(SUM(pwgtp)) OVER(PARTITION BY age_flag) AS total, ROUND((SUM(pwgtp) / SUM(SUM(pwgtp)) OVER(PARTITION BY age_flag)) * 100, 2) AS percent\n",
    "                         FROM (\n",
    "                               SELECT CASE WHEN (sch = '1' AND (esr = '3' OR esr = '6')) THEN 'OY' \n",
    "                                           WHEN (sch = '1' AND (schl::INTEGER < 16) AND (esr = '1' OR esr = '2')) THEN 'Working without diploma'\n",
    "                                           ELSE 'Not OY' \n",
    "                                           END AS oy_flag,\n",
    "                                      CASE WHEN (agep BETWEEN 16 AND 18) THEN 'Age 16-18'\n",
    "                                           WHEN (agep BETWEEN 19 AND 21) THEN 'Age 19-21'\n",
    "                                           ELSE 'Age 22-24'\n",
    "                                           END AS age_flag,\n",
    "                                      pwgtp\n",
    "                               FROM pums_2017\n",
    "                               WHERE (rt = 'P')\n",
    "                               AND (puma = '11604' OR puma = '11605' OR puma = '11610' OR puma = '11613' OR puma = '11614' OR puma = '11615' OR puma = '11611' OR puma = '11612') \n",
    "                               AND (agep BETWEEN 16 AND 24)\n",
    "                               ) AS temp\n",
    "                          GROUP BY age_flag, oy_flag\"\"\""
   ]
  },
  {
   "cell_type": "code",
   "execution_count": 167,
   "metadata": {},
   "outputs": [],
   "source": [
    "total_population = pd.read_sql(sql = query_total_population, con = engine)\n",
    "total_population['year'] = 2017"
   ]
  },
  {
   "cell_type": "code",
   "execution_count": 168,
   "metadata": {},
   "outputs": [],
   "source": [
    "pivot_total_youth_pop = total_population.pivot(index = 'oy_flag', columns = 'age_flag', values = ['estimate', 'total', 'percent'])\n",
    "pivot_total_youth_pop.to_csv(\"./data/processed/total_youth_statistics_2017.csv\")"
   ]
  },
  {
   "cell_type": "code",
   "execution_count": 169,
   "metadata": {},
   "outputs": [
    {
     "data": {
      "text/html": [
       "<div>\n",
       "<style scoped>\n",
       "    .dataframe tbody tr th:only-of-type {\n",
       "        vertical-align: middle;\n",
       "    }\n",
       "\n",
       "    .dataframe tbody tr th {\n",
       "        vertical-align: top;\n",
       "    }\n",
       "\n",
       "    .dataframe thead tr th {\n",
       "        text-align: left;\n",
       "    }\n",
       "\n",
       "    .dataframe thead tr:last-of-type th {\n",
       "        text-align: right;\n",
       "    }\n",
       "</style>\n",
       "<table border=\"1\" class=\"dataframe\">\n",
       "  <thead>\n",
       "    <tr>\n",
       "      <th></th>\n",
       "      <th colspan=\"3\" halign=\"left\">estimate</th>\n",
       "      <th colspan=\"3\" halign=\"left\">total</th>\n",
       "      <th colspan=\"3\" halign=\"left\">percent</th>\n",
       "    </tr>\n",
       "    <tr>\n",
       "      <th>age_flag</th>\n",
       "      <th>Age 16-18</th>\n",
       "      <th>Age 19-21</th>\n",
       "      <th>Age 22-24</th>\n",
       "      <th>Age 16-18</th>\n",
       "      <th>Age 19-21</th>\n",
       "      <th>Age 22-24</th>\n",
       "      <th>Age 16-18</th>\n",
       "      <th>Age 19-21</th>\n",
       "      <th>Age 22-24</th>\n",
       "    </tr>\n",
       "    <tr>\n",
       "      <th>oy_flag</th>\n",
       "      <th></th>\n",
       "      <th></th>\n",
       "      <th></th>\n",
       "      <th></th>\n",
       "      <th></th>\n",
       "      <th></th>\n",
       "      <th></th>\n",
       "      <th></th>\n",
       "      <th></th>\n",
       "    </tr>\n",
       "  </thead>\n",
       "  <tbody>\n",
       "    <tr>\n",
       "      <th>Not OY</th>\n",
       "      <td>35380.0</td>\n",
       "      <td>26579.0</td>\n",
       "      <td>33253.0</td>\n",
       "      <td>37933.0</td>\n",
       "      <td>32977.0</td>\n",
       "      <td>40729.0</td>\n",
       "      <td>93.27</td>\n",
       "      <td>80.6</td>\n",
       "      <td>81.64</td>\n",
       "    </tr>\n",
       "    <tr>\n",
       "      <th>OY</th>\n",
       "      <td>2092.0</td>\n",
       "      <td>4749.0</td>\n",
       "      <td>5597.0</td>\n",
       "      <td>37933.0</td>\n",
       "      <td>32977.0</td>\n",
       "      <td>40729.0</td>\n",
       "      <td>5.51</td>\n",
       "      <td>14.4</td>\n",
       "      <td>13.74</td>\n",
       "    </tr>\n",
       "    <tr>\n",
       "      <th>Working without diploma</th>\n",
       "      <td>461.0</td>\n",
       "      <td>1649.0</td>\n",
       "      <td>1879.0</td>\n",
       "      <td>37933.0</td>\n",
       "      <td>32977.0</td>\n",
       "      <td>40729.0</td>\n",
       "      <td>1.22</td>\n",
       "      <td>5.0</td>\n",
       "      <td>4.61</td>\n",
       "    </tr>\n",
       "  </tbody>\n",
       "</table>\n",
       "</div>"
      ],
      "text/plain": [
       "                         estimate                         total            \\\n",
       "age_flag                Age 16-18 Age 19-21 Age 22-24 Age 16-18 Age 19-21   \n",
       "oy_flag                                                                     \n",
       "Not OY                    35380.0   26579.0   33253.0   37933.0   32977.0   \n",
       "OY                         2092.0    4749.0    5597.0   37933.0   32977.0   \n",
       "Working without diploma     461.0    1649.0    1879.0   37933.0   32977.0   \n",
       "\n",
       "                                    percent                      \n",
       "age_flag                Age 22-24 Age 16-18 Age 19-21 Age 22-24  \n",
       "oy_flag                                                          \n",
       "Not OY                    40729.0     93.27      80.6     81.64  \n",
       "OY                        40729.0      5.51      14.4     13.74  \n",
       "Working without diploma   40729.0      1.22       5.0      4.61  "
      ]
     },
     "execution_count": 169,
     "metadata": {},
     "output_type": "execute_result"
    }
   ],
   "source": [
    "pivot_total_youth_pop"
   ]
  },
  {
   "cell_type": "markdown",
   "metadata": {},
   "source": [
    "We saved the above table as a new table in postgreSQL, which we then used to create the totals columns below:"
   ]
  },
  {
   "cell_type": "code",
   "execution_count": 90,
   "metadata": {},
   "outputs": [],
   "source": [
    "query_poptotals = \"\"\"SELECT oy_flag, SUM(estimate) AS Group_Total, SUM(SUM(estimate)) OVER () AS Total_Population, ROUND(SUM(estimate) / SUM(SUM(estimate)) OVER() * 100, 2) AS percent \n",
    "                     FROM oy_age_counts\n",
    "                     GROUP BY oy_flag\"\"\""
   ]
  },
  {
   "cell_type": "code",
   "execution_count": 192,
   "metadata": {},
   "outputs": [],
   "source": [
    "poptotals = pd.read_sql(sql = query_poptotals, con = engine)\n",
    "poptotals['year'] = 2017 "
   ]
  },
  {
   "cell_type": "code",
   "execution_count": 193,
   "metadata": {},
   "outputs": [],
   "source": [
    "poptotals.to_csv(\"./data/processed/youth_population_summary_2017.csv\")"
   ]
  },
  {
   "cell_type": "code",
   "execution_count": 194,
   "metadata": {},
   "outputs": [
    {
     "data": {
      "text/html": [
       "<div>\n",
       "<style scoped>\n",
       "    .dataframe tbody tr th:only-of-type {\n",
       "        vertical-align: middle;\n",
       "    }\n",
       "\n",
       "    .dataframe tbody tr th {\n",
       "        vertical-align: top;\n",
       "    }\n",
       "\n",
       "    .dataframe thead th {\n",
       "        text-align: right;\n",
       "    }\n",
       "</style>\n",
       "<table border=\"1\" class=\"dataframe\">\n",
       "  <thead>\n",
       "    <tr style=\"text-align: right;\">\n",
       "      <th></th>\n",
       "      <th>oy_flag</th>\n",
       "      <th>group_total</th>\n",
       "      <th>total_population</th>\n",
       "      <th>percent</th>\n",
       "      <th>year</th>\n",
       "    </tr>\n",
       "  </thead>\n",
       "  <tbody>\n",
       "    <tr>\n",
       "      <th>0</th>\n",
       "      <td>OY</td>\n",
       "      <td>10614.0</td>\n",
       "      <td>85883.0</td>\n",
       "      <td>12.36</td>\n",
       "      <td>2017</td>\n",
       "    </tr>\n",
       "    <tr>\n",
       "      <th>1</th>\n",
       "      <td>Not OY</td>\n",
       "      <td>71842.0</td>\n",
       "      <td>85883.0</td>\n",
       "      <td>83.65</td>\n",
       "      <td>2017</td>\n",
       "    </tr>\n",
       "    <tr>\n",
       "      <th>2</th>\n",
       "      <td>Working without diploma</td>\n",
       "      <td>3427.0</td>\n",
       "      <td>85883.0</td>\n",
       "      <td>3.99</td>\n",
       "      <td>2017</td>\n",
       "    </tr>\n",
       "  </tbody>\n",
       "</table>\n",
       "</div>"
      ],
      "text/plain": [
       "                   oy_flag  group_total  total_population  percent  year\n",
       "0                       OY      10614.0           85883.0    12.36  2017\n",
       "1                   Not OY      71842.0           85883.0    83.65  2017\n",
       "2  Working without diploma       3427.0           85883.0     3.99  2017"
      ]
     },
     "execution_count": 194,
     "metadata": {},
     "output_type": "execute_result"
    }
   ],
   "source": [
    "poptotals"
   ]
  },
  {
   "cell_type": "markdown",
   "metadata": {},
   "source": [
    "The following query will return a similar table, but dividing up the opportunity youth by their level of education (no diploma, HS diploma or GED, some college but no degree, college degree (associates or higher)."
   ]
  },
  {
   "cell_type": "code",
   "execution_count": 87,
   "metadata": {},
   "outputs": [],
   "source": [
    "query_opportunity_youth = \"\"\"SELECT age_flag, edu_flag, SUM(pwgtp) as estimate, SUM(SUM(pwgtp)) OVER(PARTITION BY age_flag) AS total, ROUND((SUM(pwgtp) / SUM(SUM(pwgtp)) OVER(PARTITION BY age_flag)) * 100, 2) AS percent\n",
    "                         FROM (\n",
    "                               SELECT CASE WHEN (schl::INTEGER <= 15 OR schl = 'bb') THEN 'No Diploma' \n",
    "                                           WHEN (schl = '16' OR schl = '17') THEN 'HS Diploma or GED'\n",
    "                                           WHEN (schl = '18' OR schl = '19')THEN 'College but no degree'\n",
    "                                           ELSE 'College Degree Holder' \n",
    "                                           END AS edu_flag,\n",
    "                                      CASE WHEN (agep BETWEEN 16 AND 18) THEN 'Age 16-18'\n",
    "                                           WHEN (agep BETWEEN 19 AND 21) THEN 'Age 19-21'\n",
    "                                           ELSE 'Age 22-24'\n",
    "                                           END AS age_flag,\n",
    "                                      pwgtp\n",
    "                               FROM pums_2017\n",
    "                               WHERE (rt = 'P')\n",
    "                               AND (puma = '11604' OR puma = '11605' OR puma = '11610' OR puma = '11613' OR puma = '11614' OR puma = '11615' OR puma = '11611' OR puma = '11612') \n",
    "                               AND (agep BETWEEN 16 AND 24)\n",
    "                               AND (sch = '1')\n",
    "                               AND (esr = '3' OR esr = '6')\n",
    "                               ) AS temp\n",
    "                          GROUP BY age_flag, edu_flag\"\"\""
   ]
  },
  {
   "cell_type": "code",
   "execution_count": 88,
   "metadata": {},
   "outputs": [],
   "source": [
    "opportunity_youth = pd.read_sql(sql = query_opportunity_youth, con = engine)\n",
    "opportunity_youth['year'] = 2017"
   ]
  },
  {
   "cell_type": "code",
   "execution_count": 173,
   "metadata": {},
   "outputs": [],
   "source": [
    "pivot_opportunity_youth = opportunity_youth.pivot(index = 'edu_flag', columns = 'age_flag', values = ['estimate', 'total', 'percent'])\n",
    "pivot_opportunity_youth.to_csv(\"./data/processed/opportunity_youth_education_2017\")"
   ]
  },
  {
   "cell_type": "code",
   "execution_count": 174,
   "metadata": {},
   "outputs": [
    {
     "data": {
      "text/html": [
       "<div>\n",
       "<style scoped>\n",
       "    .dataframe tbody tr th:only-of-type {\n",
       "        vertical-align: middle;\n",
       "    }\n",
       "\n",
       "    .dataframe tbody tr th {\n",
       "        vertical-align: top;\n",
       "    }\n",
       "\n",
       "    .dataframe thead tr th {\n",
       "        text-align: left;\n",
       "    }\n",
       "\n",
       "    .dataframe thead tr:last-of-type th {\n",
       "        text-align: right;\n",
       "    }\n",
       "</style>\n",
       "<table border=\"1\" class=\"dataframe\">\n",
       "  <thead>\n",
       "    <tr>\n",
       "      <th></th>\n",
       "      <th colspan=\"3\" halign=\"left\">estimate</th>\n",
       "      <th colspan=\"3\" halign=\"left\">total</th>\n",
       "      <th colspan=\"3\" halign=\"left\">percent</th>\n",
       "    </tr>\n",
       "    <tr>\n",
       "      <th>age_flag</th>\n",
       "      <th>Age 16-18</th>\n",
       "      <th>Age 19-21</th>\n",
       "      <th>Age 22-24</th>\n",
       "      <th>Age 16-18</th>\n",
       "      <th>Age 19-21</th>\n",
       "      <th>Age 22-24</th>\n",
       "      <th>Age 16-18</th>\n",
       "      <th>Age 19-21</th>\n",
       "      <th>Age 22-24</th>\n",
       "    </tr>\n",
       "    <tr>\n",
       "      <th>edu_flag</th>\n",
       "      <th></th>\n",
       "      <th></th>\n",
       "      <th></th>\n",
       "      <th></th>\n",
       "      <th></th>\n",
       "      <th></th>\n",
       "      <th></th>\n",
       "      <th></th>\n",
       "      <th></th>\n",
       "    </tr>\n",
       "  </thead>\n",
       "  <tbody>\n",
       "    <tr>\n",
       "      <th>College Degree Holder</th>\n",
       "      <td>NaN</td>\n",
       "      <td>132.0</td>\n",
       "      <td>633.0</td>\n",
       "      <td>NaN</td>\n",
       "      <td>4749.0</td>\n",
       "      <td>5597.0</td>\n",
       "      <td>NaN</td>\n",
       "      <td>2.78</td>\n",
       "      <td>11.31</td>\n",
       "    </tr>\n",
       "    <tr>\n",
       "      <th>College but no degree</th>\n",
       "      <td>143.0</td>\n",
       "      <td>624.0</td>\n",
       "      <td>1228.0</td>\n",
       "      <td>2092.0</td>\n",
       "      <td>4749.0</td>\n",
       "      <td>5597.0</td>\n",
       "      <td>6.84</td>\n",
       "      <td>13.14</td>\n",
       "      <td>21.94</td>\n",
       "    </tr>\n",
       "    <tr>\n",
       "      <th>HS Diploma or GED</th>\n",
       "      <td>833.0</td>\n",
       "      <td>2651.0</td>\n",
       "      <td>2259.0</td>\n",
       "      <td>2092.0</td>\n",
       "      <td>4749.0</td>\n",
       "      <td>5597.0</td>\n",
       "      <td>39.82</td>\n",
       "      <td>55.82</td>\n",
       "      <td>40.36</td>\n",
       "    </tr>\n",
       "    <tr>\n",
       "      <th>No Diploma</th>\n",
       "      <td>1116.0</td>\n",
       "      <td>1342.0</td>\n",
       "      <td>1477.0</td>\n",
       "      <td>2092.0</td>\n",
       "      <td>4749.0</td>\n",
       "      <td>5597.0</td>\n",
       "      <td>53.35</td>\n",
       "      <td>28.26</td>\n",
       "      <td>26.39</td>\n",
       "    </tr>\n",
       "  </tbody>\n",
       "</table>\n",
       "</div>"
      ],
      "text/plain": [
       "                       estimate                         total            \\\n",
       "age_flag              Age 16-18 Age 19-21 Age 22-24 Age 16-18 Age 19-21   \n",
       "edu_flag                                                                  \n",
       "College Degree Holder       NaN     132.0     633.0       NaN    4749.0   \n",
       "College but no degree     143.0     624.0    1228.0    2092.0    4749.0   \n",
       "HS Diploma or GED         833.0    2651.0    2259.0    2092.0    4749.0   \n",
       "No Diploma               1116.0    1342.0    1477.0    2092.0    4749.0   \n",
       "\n",
       "                                  percent                      \n",
       "age_flag              Age 22-24 Age 16-18 Age 19-21 Age 22-24  \n",
       "edu_flag                                                       \n",
       "College Degree Holder    5597.0       NaN      2.78     11.31  \n",
       "College but no degree    5597.0      6.84     13.14     21.94  \n",
       "HS Diploma or GED        5597.0     39.82     55.82     40.36  \n",
       "No Diploma               5597.0     53.35     28.26     26.39  "
      ]
     },
     "execution_count": 174,
     "metadata": {},
     "output_type": "execute_result"
    }
   ],
   "source": [
    "pivot_opportunity_youth"
   ]
  },
  {
   "cell_type": "markdown",
   "metadata": {},
   "source": [
    "We saved the above table as a new table in postgreSQL, which we then used to create the totals columns below:"
   ]
  },
  {
   "cell_type": "code",
   "execution_count": 93,
   "metadata": {},
   "outputs": [],
   "source": [
    "query_OYtotals = \"\"\"SELECT edu_flag, SUM(estimate) AS Group_Total, SUM(SUM(estimate)) OVER () AS Total_Population, ROUND(SUM(estimate) / SUM(SUM(estimate)) OVER() * 100, 2) AS percent \n",
    "                    FROM oy_age_counts_by_education\n",
    "                    GROUP BY edu_flag\"\"\""
   ]
  },
  {
   "cell_type": "code",
   "execution_count": 175,
   "metadata": {},
   "outputs": [],
   "source": [
    "OYtotals = pd.read_sql(sql = query_OYtotals, con = engine)\n",
    "OYtotals['year'] = 2017\n",
    "OYtotals.to_csv(\"./data/processed/opportunity_youth_education_summary.csv\")"
   ]
  },
  {
   "cell_type": "code",
   "execution_count": 176,
   "metadata": {
    "scrolled": true
   },
   "outputs": [
    {
     "data": {
      "text/html": [
       "<div>\n",
       "<style scoped>\n",
       "    .dataframe tbody tr th:only-of-type {\n",
       "        vertical-align: middle;\n",
       "    }\n",
       "\n",
       "    .dataframe tbody tr th {\n",
       "        vertical-align: top;\n",
       "    }\n",
       "\n",
       "    .dataframe thead th {\n",
       "        text-align: right;\n",
       "    }\n",
       "</style>\n",
       "<table border=\"1\" class=\"dataframe\">\n",
       "  <thead>\n",
       "    <tr style=\"text-align: right;\">\n",
       "      <th></th>\n",
       "      <th>edu_flag</th>\n",
       "      <th>group_total</th>\n",
       "      <th>total_population</th>\n",
       "      <th>percent</th>\n",
       "      <th>year</th>\n",
       "    </tr>\n",
       "  </thead>\n",
       "  <tbody>\n",
       "    <tr>\n",
       "      <th>0</th>\n",
       "      <td>College but no degree</td>\n",
       "      <td>1995.0</td>\n",
       "      <td>12438.0</td>\n",
       "      <td>16.04</td>\n",
       "      <td>2017</td>\n",
       "    </tr>\n",
       "    <tr>\n",
       "      <th>1</th>\n",
       "      <td>No Diploma</td>\n",
       "      <td>3935.0</td>\n",
       "      <td>12438.0</td>\n",
       "      <td>31.64</td>\n",
       "      <td>2017</td>\n",
       "    </tr>\n",
       "    <tr>\n",
       "      <th>2</th>\n",
       "      <td>HS Diploma or GED</td>\n",
       "      <td>5743.0</td>\n",
       "      <td>12438.0</td>\n",
       "      <td>46.17</td>\n",
       "      <td>2017</td>\n",
       "    </tr>\n",
       "    <tr>\n",
       "      <th>3</th>\n",
       "      <td>College Degree Holder</td>\n",
       "      <td>765.0</td>\n",
       "      <td>12438.0</td>\n",
       "      <td>6.15</td>\n",
       "      <td>2017</td>\n",
       "    </tr>\n",
       "  </tbody>\n",
       "</table>\n",
       "</div>"
      ],
      "text/plain": [
       "                edu_flag  group_total  total_population  percent  year\n",
       "0  College but no degree       1995.0           12438.0    16.04  2017\n",
       "1             No Diploma       3935.0           12438.0    31.64  2017\n",
       "2      HS Diploma or GED       5743.0           12438.0    46.17  2017\n",
       "3  College Degree Holder        765.0           12438.0     6.15  2017"
      ]
     },
     "execution_count": 176,
     "metadata": {},
     "output_type": "execute_result"
    }
   ],
   "source": [
    "OYtotals"
   ]
  },
  {
   "cell_type": "markdown",
   "metadata": {},
   "source": [
    "## Comparing updated data to previous data\n",
    "\n",
    "Let's bring in the 2016 data for comparison (taken from page 2 on https://roadmapproject.org/wp-content/uploads/2018/09/Opportunity-Youth-2016-Data-Brief-v2.pdf), and concatenate the two datasets for easy visualization."
   ]
  },
  {
   "cell_type": "code",
   "execution_count": 238,
   "metadata": {},
   "outputs": [],
   "source": [
    "#Read in the data from the 2016 report (copied from the report into a spreadsheet)\n",
    "educationtable2016 = pd.read_csv(\"./data/processed/2016educationtable - Sheet1.csv\")\n",
    "educationtabletotals2016 = pd.read_csv(\"./data/processed/2016educationtable_totals - Sheet1.csv\")\n",
    "opyouthtable2016 = pd.read_csv(\"./data/processed/2016opportunityyouthtable - Sheet1.csv\")\n",
    "opyouthtabletotals2016 = pd.read_csv(\"./data/processed/2016opportunityyouthtable_totals - Sheet1.csv\")\n",
    "#Add year columns to the 2016 data\n",
    "opyouthtable2016['year'] = 2016\n",
    "opyouthtabletotals2016['year'] = 2016\n",
    "educationtable2016['year'] = 2016\n",
    "educationtabletotals2016['year'] = 2016\n",
    "#Concatenate both years into the two tables for comparison and visualization \n",
    "youth_population_2016_2017 = pd.concat([total_population, opyouthtable2016], ignore_index= True)\n",
    "youth_population_totals_2016_2017 = pd.concat([poptotals, opyouthtabletotals2016], ignore_index= True)\n",
    "oy_population_2016_2017 = pd.concat([opportunity_youth, educationtable2016], ignore_index= True)\n",
    "oy_population_totals_2016_2017 = pd.concat([OYtotals, educationtabletotals2016], ignore_index= True)"
   ]
  },
  {
   "cell_type": "code",
   "execution_count": 245,
   "metadata": {},
   "outputs": [],
   "source": [
    "sns.set_style('darkgrid')\n",
    "style = 'seaborn-darkgrid'\n",
    "plt.style.use(style)"
   ]
  },
  {
   "cell_type": "code",
   "execution_count": 250,
   "metadata": {},
   "outputs": [
    {
     "data": {
      "image/png": "[encoded data removed]",
      "text/plain": [
       "<Figure size 432x288 with 1 Axes>"
      ]
     },
     "metadata": {},
     "output_type": "display_data"
    }
   ],
   "source": [
    "#Plot total youth population in 2016 vs. 2017 - show that population has decreased\n",
    "sns.barplot(x = 'year',\n",
    "            y = 'total_population',\n",
    "            data = youth_population_totals_2016_2017)\n",
    "plt.title('Total Population of Youth Ages 16-24 in South King Co.')\n",
    "plt.ylabel('Population')\n",
    "plt.xlabel('Year')\n",
    "plt.tight_layout()\n",
    "plt.savefig(\"totalpop.png\");"
   ]
  },
  {
   "cell_type": "code",
   "execution_count": 232,
   "metadata": {},
   "outputs": [
    {
     "data": {
      "image/png": "[encoded data removed]",
      "text/plain": [
       "<Figure size 432x288 with 1 Axes>"
      ]
     },
     "metadata": {},
     "output_type": "display_data"
    }
   ],
   "source": [
    "#Plot percent OY population in 2016 vs. 2017 - show that even though population has decreased, the proportion of\n",
    "#OY youth has also decreased slightly -- figure out how to get only OY\n",
    "sns.barplot(x = 'year',\n",
    "            y = 'percent',\n",
    "            hue = 'oy_flag',\n",
    "            data = youth_population_totals_2016_2017);"
   ]
  },
  {
   "cell_type": "code",
   "execution_count": 231,
   "metadata": {},
   "outputs": [
    {
     "data": {
      "image/png": "[encoded data removed]",
      "text/plain": [
       "<Figure size 1138.5x360 with 3 Axes>"
      ]
     },
     "metadata": {},
     "output_type": "display_data"
    }
   ],
   "source": [
    "sns.catplot(x = 'age_flag', \n",
    "                 y = 'percent',\n",
    "                 hue = 'year',\n",
    "                 col = 'oy_flag',\n",
    "                 kind = 'bar',\n",
    "                 data = youth_population_2016_2017);"
   ]
  },
  {
   "cell_type": "code",
   "execution_count": 240,
   "metadata": {},
   "outputs": [
    {
     "data": {
      "image/png": "[encoded data removed]",
      "text/plain": [
       "<Figure size 1440x360 with 4 Axes>"
      ]
     },
     "metadata": {},
     "output_type": "display_data"
    }
   ],
   "source": [
    "sns.catplot(x = 'year', \n",
    "            y = 'percent',\n",
    "            col = 'edu_flag',\n",
    "            kind = 'bar',\n",
    "            data = oy_population_totals_2016_2017);\n",
    "#plt.title('Proportion of Education Levels for Opportunity Youth');"
   ]
  },
  {
   "cell_type": "code",
   "execution_count": null,
   "metadata": {},
   "outputs": [],
   "source": [
    "#make bar graph showing drop in OY who have college degrees"
   ]
  }
 ],
 "metadata": {
  "kernelspec": {
   "display_name": "Python [conda env:oy-env]",
   "language": "python",
   "name": "conda-env-oy-env-py"
  },
  "language_info": {
   "codemirror_mode": {
    "name": "ipython",
    "version": 3
   },
   "file_extension": ".py",
   "mimetype": "text/x-python",
   "name": "python",
   "nbconvert_exporter": "python",
   "pygments_lexer": "ipython3",
   "version": "3.7.3"
  }
 },
 "nbformat": 4,
 "nbformat_minor": 2
}
