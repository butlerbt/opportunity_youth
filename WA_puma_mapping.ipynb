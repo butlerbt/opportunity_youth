{
 "cells": [
  {
   "cell_type": "code",
   "execution_count": 5,
   "metadata": {},
   "outputs": [],
   "source": [
    "import geopandas\n",
    "from matplotlib import pyplot as plt"
   ]
  },
  {
   "cell_type": "code",
   "execution_count": 3,
   "metadata": {},
   "outputs": [],
   "source": [
    "wa_puma = geopandas.read_file(\"data/raw/tl_2017_53_puma10.shp\")"
   ]
  },
  {
   "cell_type": "code",
   "execution_count": 4,
   "metadata": {},
   "outputs": [
    {
     "data": {
      "text/html": [
       "<div>\n",
       "<style scoped>\n",
       "    .dataframe tbody tr th:only-of-type {\n",
       "        vertical-align: middle;\n",
       "    }\n",
       "\n",
       "    .dataframe tbody tr th {\n",
       "        vertical-align: top;\n",
       "    }\n",
       "\n",
       "    .dataframe thead th {\n",
       "        text-align: right;\n",
       "    }\n",
       "</style>\n",
       "<table border=\"1\" class=\"dataframe\">\n",
       "  <thead>\n",
       "    <tr style=\"text-align: right;\">\n",
       "      <th></th>\n",
       "      <th>STATEFP10</th>\n",
       "      <th>PUMACE10</th>\n",
       "      <th>GEOID10</th>\n",
       "      <th>NAMELSAD10</th>\n",
       "      <th>MTFCC10</th>\n",
       "      <th>FUNCSTAT10</th>\n",
       "      <th>ALAND10</th>\n",
       "      <th>AWATER10</th>\n",
       "      <th>INTPTLAT10</th>\n",
       "      <th>INTPTLON10</th>\n",
       "      <th>geometry</th>\n",
       "    </tr>\n",
       "  </thead>\n",
       "  <tbody>\n",
       "    <tr>\n",
       "      <th>0</th>\n",
       "      <td>53</td>\n",
       "      <td>10200</td>\n",
       "      <td>5310200</td>\n",
       "      <td>Skagit, Island &amp; San Juan Counties PUMA</td>\n",
       "      <td>G6120</td>\n",
       "      <td>S</td>\n",
       "      <td>5470622131</td>\n",
       "      <td>2441658886</td>\n",
       "      <td>+48.4470835</td>\n",
       "      <td>-122.1737477</td>\n",
       "      <td>POLYGON ((-122.44422 48.64527, -122.43685 48.6...</td>\n",
       "    </tr>\n",
       "    <tr>\n",
       "      <th>1</th>\n",
       "      <td>53</td>\n",
       "      <td>10100</td>\n",
       "      <td>5310100</td>\n",
       "      <td>Whatcom County--Bellingham City PUMA</td>\n",
       "      <td>G6120</td>\n",
       "      <td>S</td>\n",
       "      <td>5459332804</td>\n",
       "      <td>1028183246</td>\n",
       "      <td>+48.8426531</td>\n",
       "      <td>-121.8364325</td>\n",
       "      <td>POLYGON ((-122.40642 49.00230, -122.40617 49.0...</td>\n",
       "    </tr>\n",
       "    <tr>\n",
       "      <th>2</th>\n",
       "      <td>53</td>\n",
       "      <td>10400</td>\n",
       "      <td>5310400</td>\n",
       "      <td>Stevens, Okanogan, Pend Oreille &amp; Ferry Counti...</td>\n",
       "      <td>G6120</td>\n",
       "      <td>S</td>\n",
       "      <td>29389124389</td>\n",
       "      <td>489162432</td>\n",
       "      <td>+48.5031090</td>\n",
       "      <td>-118.7866777</td>\n",
       "      <td>POLYGON ((-118.14859 47.88667, -118.14899 47.8...</td>\n",
       "    </tr>\n",
       "    <tr>\n",
       "      <th>3</th>\n",
       "      <td>53</td>\n",
       "      <td>10504</td>\n",
       "      <td>5310504</td>\n",
       "      <td>Spokane County (Outer)--Cheney City PUMA</td>\n",
       "      <td>G6120</td>\n",
       "      <td>S</td>\n",
       "      <td>3983412021</td>\n",
       "      <td>35812133</td>\n",
       "      <td>+47.5972847</td>\n",
       "      <td>-117.1210417</td>\n",
       "      <td>POLYGON ((-117.10528 47.61018, -117.10527 47.6...</td>\n",
       "    </tr>\n",
       "    <tr>\n",
       "      <th>4</th>\n",
       "      <td>53</td>\n",
       "      <td>10503</td>\n",
       "      <td>5310503</td>\n",
       "      <td>Spokane County (East Central)--Greater Spokane...</td>\n",
       "      <td>G6120</td>\n",
       "      <td>S</td>\n",
       "      <td>270926976</td>\n",
       "      <td>5004332</td>\n",
       "      <td>+47.6561281</td>\n",
       "      <td>-117.1818649</td>\n",
       "      <td>POLYGON ((-117.15534 47.69971, -117.15509 47.6...</td>\n",
       "    </tr>\n",
       "  </tbody>\n",
       "</table>\n",
       "</div>"
      ],
      "text/plain": [
       "  STATEFP10 PUMACE10  GEOID10  \\\n",
       "0        53    10200  5310200   \n",
       "1        53    10100  5310100   \n",
       "2        53    10400  5310400   \n",
       "3        53    10504  5310504   \n",
       "4        53    10503  5310503   \n",
       "\n",
       "                                          NAMELSAD10 MTFCC10 FUNCSTAT10  \\\n",
       "0            Skagit, Island & San Juan Counties PUMA   G6120          S   \n",
       "1               Whatcom County--Bellingham City PUMA   G6120          S   \n",
       "2  Stevens, Okanogan, Pend Oreille & Ferry Counti...   G6120          S   \n",
       "3           Spokane County (Outer)--Cheney City PUMA   G6120          S   \n",
       "4  Spokane County (East Central)--Greater Spokane...   G6120          S   \n",
       "\n",
       "       ALAND10    AWATER10   INTPTLAT10    INTPTLON10  \\\n",
       "0   5470622131  2441658886  +48.4470835  -122.1737477   \n",
       "1   5459332804  1028183246  +48.8426531  -121.8364325   \n",
       "2  29389124389   489162432  +48.5031090  -118.7866777   \n",
       "3   3983412021    35812133  +47.5972847  -117.1210417   \n",
       "4    270926976     5004332  +47.6561281  -117.1818649   \n",
       "\n",
       "                                            geometry  \n",
       "0  POLYGON ((-122.44422 48.64527, -122.43685 48.6...  \n",
       "1  POLYGON ((-122.40642 49.00230, -122.40617 49.0...  \n",
       "2  POLYGON ((-118.14859 47.88667, -118.14899 47.8...  \n",
       "3  POLYGON ((-117.10528 47.61018, -117.10527 47.6...  \n",
       "4  POLYGON ((-117.15534 47.69971, -117.15509 47.6...  "
      ]
     },
     "execution_count": 4,
     "metadata": {},
     "output_type": "execute_result"
    }
   ],
   "source": [
    "wa_puma.head()"
   ]
  },
  {
   "cell_type": "code",
   "execution_count": 6,
   "metadata": {},
   "outputs": [
    {
     "data": {
      "image/png": "[encoded data removed]",
      "text/plain": [
       "<Figure size 432x288 with 1 Axes>"
      ]
     },
     "metadata": {
      "needs_background": "light"
     },
     "output_type": "display_data"
    }
   ],
   "source": [
    "#fig, ax = plt.subplots(1, 1, figsize = (10, 8))\n",
    "\n",
    "wa_puma.plot()\n",
    "plt.show()"
   ]
  },
  {
   "cell_type": "code",
   "execution_count": 9,
   "metadata": {},
   "outputs": [
    {
     "data": {
      "text/plain": [
       "count        56\n",
       "unique       56\n",
       "top       11900\n",
       "freq          1\n",
       "Name: PUMACE10, dtype: object"
      ]
     },
     "execution_count": 9,
     "metadata": {},
     "output_type": "execute_result"
    }
   ],
   "source": [
    "wa_puma['PUMACE10'].describe()"
   ]
  },
  {
   "cell_type": "code",
   "execution_count": 10,
   "metadata": {},
   "outputs": [],
   "source": [
    "wa_puma['PUMACE10'] = wa_puma['PUMACE10'].apply(lambda x: int(x))"
   ]
  },
  {
   "cell_type": "code",
   "execution_count": 20,
   "metadata": {},
   "outputs": [],
   "source": [
    "kingcounty = wa_puma['PUMACE10'].isin([11606, 11607, 11608, 11609, 11610, 11613, 11614, 11615, 11616, 11611, 11612])"
   ]
  },
  {
   "cell_type": "code",
   "execution_count": 21,
   "metadata": {},
   "outputs": [],
   "source": [
    "wa_puma['KINGCO'] = wa_puma['PUMACE10'].isin([11606, 11607, 11608, 11609, 11610, 11613, 11614, 11615, 11616, 11611, 11612])"
   ]
  },
  {
   "cell_type": "code",
   "execution_count": 12,
   "metadata": {},
   "outputs": [],
   "source": [
    "southseattle = wa_puma['PUMACE10'].isin([11610, 11613, 11614, 11615, 11611, 11612])"
   ]
  },
  {
   "cell_type": "code",
   "execution_count": 17,
   "metadata": {},
   "outputs": [],
   "source": [
    "wa_puma['SOUTHKING'] = wa_puma['PUMACE10'].isin([11610, 11613, 11614, 11615, 11611, 11612])"
   ]
  },
  {
   "cell_type": "code",
   "execution_count": 22,
   "metadata": {
    "scrolled": true
   },
   "outputs": [
    {
     "data": {
      "text/html": [
       "<div>\n",
       "<style scoped>\n",
       "    .dataframe tbody tr th:only-of-type {\n",
       "        vertical-align: middle;\n",
       "    }\n",
       "\n",
       "    .dataframe tbody tr th {\n",
       "        vertical-align: top;\n",
       "    }\n",
       "\n",
       "    .dataframe thead th {\n",
       "        text-align: right;\n",
       "    }\n",
       "</style>\n",
       "<table border=\"1\" class=\"dataframe\">\n",
       "  <thead>\n",
       "    <tr style=\"text-align: right;\">\n",
       "      <th></th>\n",
       "      <th>STATEFP10</th>\n",
       "      <th>PUMACE10</th>\n",
       "      <th>GEOID10</th>\n",
       "      <th>NAMELSAD10</th>\n",
       "      <th>MTFCC10</th>\n",
       "      <th>FUNCSTAT10</th>\n",
       "      <th>ALAND10</th>\n",
       "      <th>AWATER10</th>\n",
       "      <th>INTPTLAT10</th>\n",
       "      <th>INTPTLON10</th>\n",
       "      <th>geometry</th>\n",
       "      <th>SOUTHKING</th>\n",
       "      <th>KINGCO</th>\n",
       "    </tr>\n",
       "  </thead>\n",
       "  <tbody>\n",
       "    <tr>\n",
       "      <th>0</th>\n",
       "      <td>53</td>\n",
       "      <td>10200</td>\n",
       "      <td>5310200</td>\n",
       "      <td>Skagit, Island &amp; San Juan Counties PUMA</td>\n",
       "      <td>G6120</td>\n",
       "      <td>S</td>\n",
       "      <td>5470622131</td>\n",
       "      <td>2441658886</td>\n",
       "      <td>+48.4470835</td>\n",
       "      <td>-122.1737477</td>\n",
       "      <td>POLYGON ((-122.44422 48.64527, -122.43685 48.6...</td>\n",
       "      <td>False</td>\n",
       "      <td>False</td>\n",
       "    </tr>\n",
       "    <tr>\n",
       "      <th>1</th>\n",
       "      <td>53</td>\n",
       "      <td>10100</td>\n",
       "      <td>5310100</td>\n",
       "      <td>Whatcom County--Bellingham City PUMA</td>\n",
       "      <td>G6120</td>\n",
       "      <td>S</td>\n",
       "      <td>5459332804</td>\n",
       "      <td>1028183246</td>\n",
       "      <td>+48.8426531</td>\n",
       "      <td>-121.8364325</td>\n",
       "      <td>POLYGON ((-122.40642 49.00230, -122.40617 49.0...</td>\n",
       "      <td>False</td>\n",
       "      <td>False</td>\n",
       "    </tr>\n",
       "    <tr>\n",
       "      <th>2</th>\n",
       "      <td>53</td>\n",
       "      <td>10400</td>\n",
       "      <td>5310400</td>\n",
       "      <td>Stevens, Okanogan, Pend Oreille &amp; Ferry Counti...</td>\n",
       "      <td>G6120</td>\n",
       "      <td>S</td>\n",
       "      <td>29389124389</td>\n",
       "      <td>489162432</td>\n",
       "      <td>+48.5031090</td>\n",
       "      <td>-118.7866777</td>\n",
       "      <td>POLYGON ((-118.14859 47.88667, -118.14899 47.8...</td>\n",
       "      <td>False</td>\n",
       "      <td>False</td>\n",
       "    </tr>\n",
       "    <tr>\n",
       "      <th>3</th>\n",
       "      <td>53</td>\n",
       "      <td>10504</td>\n",
       "      <td>5310504</td>\n",
       "      <td>Spokane County (Outer)--Cheney City PUMA</td>\n",
       "      <td>G6120</td>\n",
       "      <td>S</td>\n",
       "      <td>3983412021</td>\n",
       "      <td>35812133</td>\n",
       "      <td>+47.5972847</td>\n",
       "      <td>-117.1210417</td>\n",
       "      <td>POLYGON ((-117.10528 47.61018, -117.10527 47.6...</td>\n",
       "      <td>False</td>\n",
       "      <td>False</td>\n",
       "    </tr>\n",
       "    <tr>\n",
       "      <th>4</th>\n",
       "      <td>53</td>\n",
       "      <td>10503</td>\n",
       "      <td>5310503</td>\n",
       "      <td>Spokane County (East Central)--Greater Spokane...</td>\n",
       "      <td>G6120</td>\n",
       "      <td>S</td>\n",
       "      <td>270926976</td>\n",
       "      <td>5004332</td>\n",
       "      <td>+47.6561281</td>\n",
       "      <td>-117.1818649</td>\n",
       "      <td>POLYGON ((-117.15534 47.69971, -117.15509 47.6...</td>\n",
       "      <td>False</td>\n",
       "      <td>False</td>\n",
       "    </tr>\n",
       "  </tbody>\n",
       "</table>\n",
       "</div>"
      ],
      "text/plain": [
       "  STATEFP10  PUMACE10  GEOID10  \\\n",
       "0        53     10200  5310200   \n",
       "1        53     10100  5310100   \n",
       "2        53     10400  5310400   \n",
       "3        53     10504  5310504   \n",
       "4        53     10503  5310503   \n",
       "\n",
       "                                          NAMELSAD10 MTFCC10 FUNCSTAT10  \\\n",
       "0            Skagit, Island & San Juan Counties PUMA   G6120          S   \n",
       "1               Whatcom County--Bellingham City PUMA   G6120          S   \n",
       "2  Stevens, Okanogan, Pend Oreille & Ferry Counti...   G6120          S   \n",
       "3           Spokane County (Outer)--Cheney City PUMA   G6120          S   \n",
       "4  Spokane County (East Central)--Greater Spokane...   G6120          S   \n",
       "\n",
       "       ALAND10    AWATER10   INTPTLAT10    INTPTLON10  \\\n",
       "0   5470622131  2441658886  +48.4470835  -122.1737477   \n",
       "1   5459332804  1028183246  +48.8426531  -121.8364325   \n",
       "2  29389124389   489162432  +48.5031090  -118.7866777   \n",
       "3   3983412021    35812133  +47.5972847  -117.1210417   \n",
       "4    270926976     5004332  +47.6561281  -117.1818649   \n",
       "\n",
       "                                            geometry  SOUTHKING  KINGCO  \n",
       "0  POLYGON ((-122.44422 48.64527, -122.43685 48.6...      False   False  \n",
       "1  POLYGON ((-122.40642 49.00230, -122.40617 49.0...      False   False  \n",
       "2  POLYGON ((-118.14859 47.88667, -118.14899 47.8...      False   False  \n",
       "3  POLYGON ((-117.10528 47.61018, -117.10527 47.6...      False   False  \n",
       "4  POLYGON ((-117.15534 47.69971, -117.15509 47.6...      False   False  "
      ]
     },
     "execution_count": 22,
     "metadata": {},
     "output_type": "execute_result"
    }
   ],
   "source": [
    "wa_puma.head()"
   ]
  },
  {
   "cell_type": "code",
   "execution_count": 24,
   "metadata": {},
   "outputs": [
    {
     "data": {
      "image/png": "[encoded data removed]",
      "text/plain": [
       "<Figure size 432x288 with 1 Axes>"
      ]
     },
     "metadata": {
      "needs_background": "light"
     },
     "output_type": "display_data"
    }
   ],
   "source": [
    "wa_puma[kingcounty].plot()\n",
    "plt.show()"
   ]
  },
  {
   "cell_type": "code",
   "execution_count": null,
   "metadata": {},
   "outputs": [],
   "source": []
  }
 ],
 "metadata": {
  "kernelspec": {
   "display_name": "oy-env",
   "language": "python",
   "name": "oy-env"
  },
  "language_info": {
   "codemirror_mode": {
    "name": "ipython",
    "version": 3
   },
   "file_extension": ".py",
   "mimetype": "text/x-python",
   "name": "python",
   "nbconvert_exporter": "python",
   "pygments_lexer": "ipython3",
   "version": "3.7.3"
  }
 },
 "nbformat": 4,
 "nbformat_minor": 2
}
